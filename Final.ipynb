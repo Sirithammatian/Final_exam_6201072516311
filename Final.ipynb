{
 "cells": [
  {
   "cell_type": "code",
   "execution_count": 1,
   "metadata": {},
   "outputs": [],
   "source": [
    "import numpy as np\n",
    "import cv2\n",
    "import os\n",
    "# import scipy\n",
    "# import matplotlib.pylab as plt\n",
    "# from skimage import io"
   ]
  },
  {
   "cell_type": "code",
   "execution_count": 2,
   "metadata": {},
   "outputs": [],
   "source": [
    "def preprocessing(template) :\n",
    "    template_gray = cv2.cvtColor(template, cv2.COLOR_BGR2GRAY)\n",
    "    # img = cv2.cvtColor(img, cv2.COLOR_BGR2RGB)\n",
    "    return (template, template_gray)"
   ]
  },
  {
   "cell_type": "code",
   "execution_count": 3,
   "metadata": {},
   "outputs": [
    {
     "name": "stdout",
     "output_type": "stream",
     "text": [
      "(469, 347, 3)\n"
     ]
    }
   ],
   "source": [
    "template = cv2.imread('./images/final_exam/Templates/Template-3.png')\n",
    "template, template_gray = preprocessing(template)\n",
    "print(template.shape)\n"
   ]
  },
  {
   "cell_type": "code",
   "execution_count": 4,
   "metadata": {},
   "outputs": [
    {
     "name": "stdout",
     "output_type": "stream",
     "text": [
      "c:\\Users\\gobes\\OneDrive\\Desktop\\Fi\\010723305-main\\010723305-main/new-camera_params/\n",
      "Camera matrix\n",
      "[[1.29968396e+03 0.00000000e+00 6.32814378e+02]\n",
      " [0.00000000e+00 1.29933998e+03 4.74721903e+02]\n",
      " [0.00000000e+00 0.00000000e+00 1.00000000e+00]]\n",
      "Len distortion\n",
      "[[-0.40795692  0.24741507  0.00200567 -0.00202735 -0.09445672]]\n"
     ]
    }
   ],
   "source": [
    "params_dir = os.getcwd()+'/new-camera_params/'\n",
    "print(params_dir)\n",
    "\n",
    "#load camera parameters\n",
    "K = np.load(params_dir+'K.npy')\n",
    "dist = np.load(params_dir+'dist.npy')\n",
    "\n",
    "print(\"Camera matrix\")\n",
    "print(K)\n",
    "print(\"Len distortion\")\n",
    "print(dist)"
   ]
  },
  {
   "cell_type": "code",
   "execution_count": 5,
   "metadata": {},
   "outputs": [],
   "source": [
    "def crop_image(ref_img, query_img, H) : # Warp and crop\n",
    "    rows, cols = ref_img.shape[:2]\n",
    "    warped_img = cv2.warpPerspective(query_img, H, (2*cols, 2*rows))\n",
    "    warped_img[0:rows, 0:cols] = ref_img\n",
    "    grayscale = cv2.cvtColor(warped_img, cv2.COLOR_RGB2GRAY)\n",
    "    mask = cv2.threshold(grayscale, 0, 255, cv2.THRESH_BINARY)[1]\n",
    "    # find contour inside mask \n",
    "    contour, hier = cv2.findContours(mask, cv2.RETR_EXTERNAL, cv2.CHAIN_APPROX_NONE)\n",
    "\n",
    "    # get contour with maximum area\n",
    "    max_area_contour = max(contour, key=cv2.contourArea)\n",
    "\n",
    "    # create bounding box\n",
    "    (x, y, w, h) = cv2.boundingRect(max_area_contour)\n",
    "\n",
    "    result = warped_img[:h, :w]\n",
    "    return result"
   ]
  },
  {
   "cell_type": "code",
   "execution_count": 6,
   "metadata": {},
   "outputs": [],
   "source": [
    "sift = cv2.SIFT_create()\n",
    "bf = cv2.BFMatcher()"
   ]
  },
  {
   "cell_type": "code",
   "execution_count": 7,
   "metadata": {},
   "outputs": [],
   "source": [
    "def H_from_ransac(fp, tp, model, maxiter=1000, match_threshold = 10) :\n",
    "    \"\"\"Homography matrix from RANSAC robust estimator\"\"\"\n",
    "    data = np.vstack((fp,tp))\n",
    "    H, ransac_data = ransac(data.T, model, 4, maxiter, match_threshold, 10, return_all=True)\n",
    "    return H, ransac_data['inliers']"
   ]
  },
  {
   "cell_type": "code",
   "execution_count": 8,
   "metadata": {},
   "outputs": [
    {
     "ename": "IndentationError",
     "evalue": "unexpected indent (Temp/ipykernel_28324/1158761826.py, line 8)",
     "output_type": "error",
     "traceback": [
      "\u001b[1;36m  File \u001b[1;32m\"C:\\Users\\gobes\\AppData\\Local\\Temp/ipykernel_28324/1158761826.py\"\u001b[1;36m, line \u001b[1;32m8\u001b[0m\n\u001b[1;33m    frame, frame_gray = preprocessing(frame)\u001b[0m\n\u001b[1;37m    ^\u001b[0m\n\u001b[1;31mIndentationError\u001b[0m\u001b[1;31m:\u001b[0m unexpected indent\n"
     ]
    }
   ],
   "source": [
    "\n",
    "cap = cv2.VideoCapture('./videos/final_exam/Dataset-2/left_output.avi')\n",
    "\n",
    "while cap.isOpened() :\n",
    "    ret, frame = cap.read()\n",
    "    # vdo_fram = frame.copy()\n",
    "    if ret :\n",
    "       cv2.imshow('frame',frame)\n",
    "        frame, frame_gray = preprocessing(frame)\n",
    "\n",
    "        # sift = cv2.SIFT_create()\n",
    "        # bf = cv2.BFMatcher()\n",
    "        template_kpts, template_desc = sift.detectAndCompute(template_gray, None)\n",
    "        frame_kpts, frame_desc = sift.detectAndCompute(frame_gray, None)\n",
    "\n",
    "        matches = bf.knnMatch(template_desc, frame_desc, k=2)\n",
    "        good_matches = list()\n",
    "        good_matches_list = list()\n",
    "\n",
    "        for m, n in matches :\n",
    "            if m.distance < 0.7*n.distance :\n",
    "                good_matches.append(m)\n",
    "                good_matches_list.append([m])\n",
    "\n",
    "        drawmatch_img = cv2.drawMatchesKnn(template, template_kpts, frame, frame_kpts, good_matches_list, None, flags=2)\n",
    "\n",
    "        MIN_MATCH_NUMBER = 10\n",
    "        \n",
    "        if len(good_matches) > MIN_MATCH_NUMBER :\n",
    "\n",
    "            tp = np.float32([ template_kpts[m.queryIdx].pt for m in good_matches ]).reshape(-1,1,2)\n",
    "            fp = np.float32([ frame_kpts[m.trainIdx].pt for m in good_matches ]).reshape(-1,1,2)\n",
    "            \n",
    "            H, inlier_masks = cv2.findHomography(fp, tp, cv2.RANSAC, 10.0)\n",
    "            \n",
    "            ransac_img = cv2.drawMatchesKnn(template, template_kpts, frame, frame_kpts, good_matches_list, None, flags=2, matchesMask=inlier_masks)\n",
    "\n",
    "            h, w = template.shape[:2]\n",
    "            template_box = np.float32([[0, 0], [0, h-1], [w-1, h-1], [w-1, 0]]).reshape(-1,1,2)\n",
    "            transformed_box = cv2.perspectiveTransform(template_box, H)\n",
    "\n",
    "            detected_img = cv2.polylines(frame, [np.int32(transformed_box)], True, (255,0,0), 3, cv2.LINE_AA)\n",
    "            drawmatch_img = cv2.drawMatchesKnn(template, template_kpts, frame, frame_kpts, good_matches_list, None, flags=2, matchesMask=inlier_masks)\n",
    "            \n",
    "            cv2.imshow('detected frame', detected_img)\n",
    "        else :\n",
    "            \n",
    "            cv2.imshow('detected frame', frame)\n",
    "        key = cv2.waitKey(33) & 0xFF\n",
    "        \n",
    "        if key == ord('q') : # this line control the period between image frame\n",
    "            break\n",
    "        else :\n",
    "           \n",
    "\n",
    "        cap.release()\n",
    "        cv2.destroyAllWindows()"
   ]
  },
  {
   "cell_type": "code",
   "execution_count": 4,
   "metadata": {},
   "outputs": [],
   "source": [
    "def feature_object_detection(template_img, template_gray, query_img, query_gray, min_match_number) :\n",
    "    template_kpts, template_desc = sift.detectAndCompute(template_gray, None)\n",
    "    query_kpts, query_desc = sift.detectAndCompute(query_gray, None)\n",
    "    matches = bf.knnMatch(template_desc, query_desc, k=2)\n",
    "    good_matches = list()\n",
    "    good_matches_list = list()\n",
    "    for m, n in matches :\n",
    "        if m.distance < 0.6*n.distance :\n",
    "            good_matches.append(m)\n",
    "            good_matches_list.append([m])\n",
    "    \n",
    "    if len(good_matches) > min_match_number :\n",
    "        src_pts = np.float32([ template_kpts[m.queryIdx].pt for m in good_matches ]).reshape(-1,1,2)\n",
    "        dst_pts = np.float32([ query_kpts[m.trainIdx].pt for m in good_matches ]).reshape(-1,1,2)\n",
    "\n",
    "        H, inlier_masks = cv2.findHomography(src_pts, dst_pts, cv2.RANSAC, 10.0) # H RANSAC\n",
    "        # get the bounding box around template image\n",
    "        h, w = template_img.shape[:2]\n",
    "        template_box = np.float32([[0, 0], [0, h-1], [w-1, h-1], [w-1, 0]]).reshape(-1,1,2)\n",
    "        transformed_box = cv2.perspectiveTransform(template_box, H)\n",
    "\n",
    "        detected_img = cv2.polylines(query_img, [np.int32(transformed_box)], True, (255,0,0), 3, cv2.LINE_AA)\n",
    "        drawmatch_img = cv2.drawMatchesKnn(template_img, template_kpts, detected_img, query_kpts, good_matches_list, None, flags=2, matchesMask=inlier_masks)\n",
    "\n",
    "        return detected_img, drawmatch_img\n",
    "    else :\n",
    "        print('Keypoints not enough')\n",
    "        return"
   ]
  },
  {
   "cell_type": "code",
   "execution_count": 8,
   "metadata": {},
   "outputs": [
    {
     "name": "stdout",
     "output_type": "stream",
     "text": [
      "Keypoints not enough\n"
     ]
    },
    {
     "ename": "TypeError",
     "evalue": "cannot unpack non-iterable NoneType object",
     "output_type": "error",
     "traceback": [
      "\u001b[1;31m---------------------------------------------------------------------------\u001b[0m",
      "\u001b[1;31mTypeError\u001b[0m                                 Traceback (most recent call last)",
      "\u001b[1;32m~\\AppData\\Local\\Temp/ipykernel_11664/1084843975.py\u001b[0m in \u001b[0;36m<module>\u001b[1;34m\u001b[0m\n\u001b[0;32m      7\u001b[0m \u001b[1;33m\u001b[0m\u001b[0m\n\u001b[0;32m      8\u001b[0m         \u001b[0mframe_gray\u001b[0m \u001b[1;33m=\u001b[0m \u001b[0mcv2\u001b[0m\u001b[1;33m.\u001b[0m\u001b[0mcvtColor\u001b[0m\u001b[1;33m(\u001b[0m\u001b[0mframe\u001b[0m\u001b[1;33m,\u001b[0m \u001b[0mcv2\u001b[0m\u001b[1;33m.\u001b[0m\u001b[0mCOLOR_BGR2GRAY\u001b[0m\u001b[1;33m)\u001b[0m\u001b[1;33m\u001b[0m\u001b[1;33m\u001b[0m\u001b[0m\n\u001b[1;32m----> 9\u001b[1;33m         \u001b[0mdetected\u001b[0m\u001b[1;33m,\u001b[0m \u001b[0mdrawmatch\u001b[0m \u001b[1;33m=\u001b[0m  \u001b[0mfeature_object_detection\u001b[0m\u001b[1;33m(\u001b[0m\u001b[0mtemplate\u001b[0m\u001b[1;33m,\u001b[0m \u001b[0mtemplate_gray\u001b[0m\u001b[1;33m,\u001b[0m \u001b[0mframe\u001b[0m\u001b[1;33m,\u001b[0m \u001b[0mframe_gray\u001b[0m\u001b[1;33m,\u001b[0m \u001b[1;36m10\u001b[0m\u001b[1;33m)\u001b[0m\u001b[1;33m\u001b[0m\u001b[1;33m\u001b[0m\u001b[0m\n\u001b[0m\u001b[0;32m     10\u001b[0m         \u001b[0mcv2\u001b[0m\u001b[1;33m.\u001b[0m\u001b[0mimshow\u001b[0m\u001b[1;33m(\u001b[0m\u001b[1;34m'Frame'\u001b[0m\u001b[1;33m,\u001b[0m \u001b[0mframe\u001b[0m\u001b[1;33m)\u001b[0m\u001b[1;33m\u001b[0m\u001b[1;33m\u001b[0m\u001b[0m\n\u001b[0;32m     11\u001b[0m \u001b[1;33m\u001b[0m\u001b[0m\n",
      "\u001b[1;31mTypeError\u001b[0m: cannot unpack non-iterable NoneType object"
     ]
    }
   ],
   "source": [
    "cap = cv2.VideoCapture('./videos/final_exam/Dataset-2/left_output.avi')\n",
    "\n",
    "while cap.isOpened() :\n",
    "    #Read new frame\n",
    "    ret, frame = cap.read()\n",
    "    if ret == True :\n",
    "\n",
    "        frame_gray = cv2.cvtColor(frame, cv2.COLOR_BGR2GRAY)\n",
    "        detected, drawmatch =  feature_object_detection(template, template_gray, frame, frame_gray, 10)\n",
    "        cv2.imshow('Frame', frame)\n",
    "        \n",
    "        if cv2.waitKey(33) & 0xFF == ord('q') : # Period control f - 1/T\n",
    "            break\n",
    "    else :\n",
    "        break\n",
    "    \n",
    "cap.release()\n",
    "cv2.destroyAllWindows()"
   ]
  }
 ],
 "metadata": {
  "interpreter": {
   "hash": "df6c3221f4a260890abd69324964563e4415b794ae5380205e6fd996de8ab9f9"
  },
  "kernelspec": {
   "display_name": "Python 3.9.6 64-bit",
   "name": "python3"
  },
  "language_info": {
   "codemirror_mode": {
    "name": "ipython",
    "version": 3
   },
   "file_extension": ".py",
   "mimetype": "text/x-python",
   "name": "python",
   "nbconvert_exporter": "python",
   "pygments_lexer": "ipython3",
   "version": "3.9.6"
  },
  "orig_nbformat": 4
 },
 "nbformat": 4,
 "nbformat_minor": 2
}
